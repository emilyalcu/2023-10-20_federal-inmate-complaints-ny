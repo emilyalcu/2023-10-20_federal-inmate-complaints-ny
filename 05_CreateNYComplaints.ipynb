{
 "cells": [
  {
   "cell_type": "code",
   "execution_count": 5,
   "metadata": {},
   "outputs": [
    {
     "name": "stderr",
     "output_type": "stream",
     "text": [
      "/var/folders/x3/5gclj9rd6tj1rpgd5cwxqvy00000gn/T/ipykernel_24032/4194133228.py:9: SettingWithCopyWarning: \n",
      "A value is trying to be set on a copy of a slice from a DataFrame\n",
      "\n",
      "See the caveats in the documentation: https://pandas.pydata.org/pandas-docs/stable/user_guide/indexing.html#returning-a-view-versus-a-copy\n",
      "  nyfacilities.drop_duplicates(inplace=True)\n"
     ]
    },
    {
     "name": "stdout",
     "output_type": "stream",
     "text": [
      "         CASENBR ITERLVL CDFCLEVN CDFCLRCV CDOFCRCV CDSTATUS STATRSN1  \\\n",
      "196       205452       R      CNK      ALW      NER      REJ      OTH   \n",
      "520       202524       R      BRO      BRO      NER      REJ      ONE   \n",
      "521       203538       R      BRO      BRO      NER      REJ      MLT   \n",
      "522       203522       R      BRO      BRO      NER      CLD      DNY   \n",
      "523       203517       R      BRO      BRO      NER      REJ      INS   \n",
      "...          ...     ...      ...      ...      ...      ...      ...   \n",
      "1783207  1199885       R      RBK      RBK      NER      REJ      LEG   \n",
      "1783208  1199765       F      RBK      RBK      RBK      CLO      WDN   \n",
      "1783209  1198831       R      RBK      RBK      NER      REJ      INS   \n",
      "1783210  1184515       A      RBK      RBK      BOP      REJ      RAP   \n",
      "1783211  1179330       A      RBK      RBK      BOP      ACC      NaN   \n",
      "\n",
      "        STATRSN2 STATRSN3 STATRSN4  ... timely  diffreg_answer overdue  \\\n",
      "196          RSR      NaN      NaN  ...    NaN             NaN     NaN   \n",
      "520          RSR      NaN      NaN  ...    NaN             NaN     NaN   \n",
      "521          DHO      RSR      NaN  ...    NaN             NaN     NaN   \n",
      "522          NaN      NaN      NaN  ...    1.0             0.0     NaN   \n",
      "523          NaN      NaN      NaN  ...    NaN             NaN     NaN   \n",
      "...          ...      ...      ...  ...    ...             ...     ...   \n",
      "1783207      RSR      NaN      NaN  ...    NaN             NaN     NaN   \n",
      "1783208      NaN      NaN      NaN  ...    1.0             NaN     NaN   \n",
      "1783209      NaN      NaN      NaN  ...    NaN             NaN     NaN   \n",
      "1783210      RSA      NaN      NaN  ...    NaN             NaN     NaN   \n",
      "1783211      NaN      NaN      NaN  ...    NaN             NaN     0.0   \n",
      "\n",
      "        untimely resubmit noinfres  attachmt  wronglvl  otherrej  cdsub1cb  \n",
      "196          0.0      1.0      0.0       0.0       0.0       1.0       20E  \n",
      "520          0.0      1.0      0.0       0.0       0.0       0.0       20A  \n",
      "521          0.0      1.0      0.0       0.0       0.0       0.0       20D  \n",
      "522          NaN      NaN      NaN       NaN       NaN       NaN       20D  \n",
      "523          0.0      0.0      0.0       0.0       0.0       0.0       10Z  \n",
      "...          ...      ...      ...       ...       ...       ...       ...  \n",
      "1783207      0.0      1.0      0.0       0.0       0.0       0.0       20D  \n",
      "1783208      NaN      NaN      NaN       NaN       NaN       NaN       34A  \n",
      "1783209      0.0      0.0      0.0       0.0       0.0       0.0       31Z  \n",
      "1783210      0.0      1.0      0.0       0.0       0.0       0.0       31Z  \n",
      "1783211      NaN      NaN      NaN       NaN       NaN       NaN       13L  \n",
      "\n",
      "[44979 rows x 37 columns]\n"
     ]
    }
   ],
   "source": [
    "import pandas as pd\n",
    "import csv\n",
    "\n",
    "# load facilities data and filter for NY\n",
    "facilities = pd.read_csv(r'04_FacilityCodes_All.csv')\n",
    "nyfacilities = facilities[facilities['State'] == 'NY']\n",
    "\n",
    "# remove duplicates and save to CSV \n",
    "nyfacilities.drop_duplicates(inplace=True)\n",
    "nyfacilities.to_csv('06_NYFacilities.csv', index=False)\n",
    "\n",
    "# load NY facility codes\n",
    "nyfacilities2 = pd.read_csv(r'06_NYFacilities.csv')\n",
    "nyfacilitycodes = nyfacilities2['Facility Code']\n",
    "\n",
    "# save NY facility codes as a set\n",
    "nyset = set(nyfacilitycodes)\n",
    "\n",
    "# load raw complaints data\n",
    "complaints = pd.read_csv('01_RawComplaintFilings.csv')\n",
    "\n",
    "# filter complaints where CDFCLEVN is in the set of NY facility codes\n",
    "nycomplaints = complaints[complaints['CDFCLEVN'].isin(nyset)]\n",
    "\n",
    "# print the filtered complaints\n",
    "print(nycomplaints)\n",
    "\n",
    "# write ny complaint data to a CSV file \n",
    "nycomplaints.to_csv(\"07_NYComplaints.csv\", sep='\\t', index=False)"
   ]
  }
 ],
 "metadata": {
  "kernelspec": {
   "display_name": "Python 3",
   "language": "python",
   "name": "python3"
  },
  "language_info": {
   "codemirror_mode": {
    "name": "ipython",
    "version": 3
   },
   "file_extension": ".py",
   "mimetype": "text/x-python",
   "name": "python",
   "nbconvert_exporter": "python",
   "pygments_lexer": "ipython3",
   "version": "3.12.1"
  }
 },
 "nbformat": 4,
 "nbformat_minor": 2
}
